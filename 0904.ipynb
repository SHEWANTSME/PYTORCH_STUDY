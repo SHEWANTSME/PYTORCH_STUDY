{
 "cells": [
  {
   "cell_type": "code",
   "execution_count": 22,
   "id": "c8c096e1",
   "metadata": {},
   "outputs": [],
   "source": [
    "# 일단 2.2장 Retry"
   ]
  },
  {
   "cell_type": "code",
   "execution_count": null,
   "id": "edc8390a",
   "metadata": {},
   "outputs": [],
   "source": [
    "# pytorch = gpu에서 텐서 조작 및 동적 신경망 구축이 가능한 framework"
   ]
  },
  {
   "cell_type": "code",
   "execution_count": null,
   "id": "654b77a2",
   "metadata": {},
   "outputs": [],
   "source": [
    "tensor = 단일 데이터 형식으로 이루어진 자료들의 다차원 행렬\n",
    "보통 import torch 하고 torch.tensor(~~) 형태로 사용한다\n"
   ]
  },
  {
   "cell_type": "code",
   "execution_count": 3,
   "id": "60879fd3",
   "metadata": {},
   "outputs": [],
   "source": [
    "import torch # gpu를 지원하는 텐서 패키지\n",
    "import torch.nn # 신경망 구축 및 훈련 패키지\n",
    "import torch.utils # dataloader 및 기타 utility제공 패키지\n",
    "import torch.autograd # 자동 미분 패키지\n",
    "import torch.multiprocessing # 서로다른 프로세스에서 동일한 data(tensor) 에 대한 접근 및 사용 가능"
   ]
  },
  {
   "cell_type": "code",
   "execution_count": 7,
   "id": "21060b75",
   "metadata": {},
   "outputs": [
    {
     "name": "stdout",
     "output_type": "stream",
     "text": [
      "tensor([[1, 2],\n",
      "        [3, 4]])\n",
      "[[1 2]\n",
      " [3 4]]\n"
     ]
    }
   ],
   "source": [
    "import numpy as np\n",
    "tt = torch.tensor\n",
    "x = tt([[1,2] , [3,4]])\n",
    "print(x)\n",
    "print(x.numpy()) # tensor to ndarray"
   ]
  },
  {
   "cell_type": "code",
   "execution_count": null,
   "id": "68164106",
   "metadata": {},
   "outputs": [],
   "source": [
    "torch.FloatTensor # 32비트의 부동소수점\n",
    "torch.DoubleTensor # 64 ```\n",
    "torch.LongTensor # 64   부호있는정수\n",
    "# 얘네들끼리 연산수행 ㄴㄴ 자료형 같아야함"
   ]
  },
  {
   "cell_type": "code",
   "execution_count": 9,
   "id": "9e9c5af7",
   "metadata": {},
   "outputs": [
    {
     "name": "stdout",
     "output_type": "stream",
     "text": [
      "tensor([[1],\n",
      "        [2],\n",
      "        [3],\n",
      "        [4]])\n",
      "tensor([1, 2, 3, 4])\n",
      "tensor([[1, 2, 3, 4]])\n",
      "tensor([[1],\n",
      "        [2],\n",
      "        [3],\n",
      "        [4]])\n"
     ]
    }
   ],
   "source": [
    "temp = tt([[1,2] , [3,4]])\n",
    "print(temp.view(4,1)) # 2x2 행렬 to 4x1\n",
    "print(temp.view(-1)) # 2x2 to 1차원 vec\n",
    "print(temp.view(1,-1)) # -1은 (1,?)와 같은 뜻으로 다른 차원으로부터 해당 값을 유추한다는 뜻임. temp의 원소 개수 (2x2 = 4) 를 유지한채\n",
    "# (1,?)의 형태를 만족해야 하므로 (1,4)가 된다\n",
    "print(temp.view(-1,1)) # 마찬가지로 (4,1)된다"
   ]
  },
  {
   "cell_type": "code",
   "execution_count": 20,
   "id": "de68fec9",
   "metadata": {},
   "outputs": [
    {
     "name": "stdout",
     "output_type": "stream",
     "text": [
      "tensor([[1, 2, 3],\n",
      "        [4, 5, 6],\n",
      "        [7, 8, 9]])\n"
     ]
    }
   ],
   "source": [
    "xxx = tt([[[1,2,3] , [4,5,6] , [7,8,9]]])\n",
    "print(xxx.view(-1,3))"
   ]
  },
  {
   "cell_type": "code",
   "execution_count": 41,
   "id": "e7004050",
   "metadata": {},
   "outputs": [
    {
     "data": {
      "text/plain": [
       "0        med\n",
       "1       high\n",
       "2        low\n",
       "3        med\n",
       "4       high\n",
       "        ... \n",
       "1722     med\n",
       "1723    high\n",
       "1724     low\n",
       "1725     med\n",
       "1726    high\n",
       "Name: low, Length: 1727, dtype: object"
      ]
     },
     "execution_count": 41,
     "metadata": {},
     "output_type": "execute_result"
    }
   ],
   "source": [
    "import pandas as pd\n",
    "data = pd.read_csv('C:/Users/qhdms/Desktop/2022_AI_Visual_ICT/PYTORCH_STUDY/car_evaluation.csv')\n",
    "data.head(10)\n",
    "data['2.1']\n",
    "data['low']"
   ]
  },
  {
   "cell_type": "code",
   "execution_count": 38,
   "id": "88a048b9",
   "metadata": {},
   "outputs": [
    {
     "ename": "TypeError",
     "evalue": "can't convert np.ndarray of type numpy.object_. The only supported types are: float64, float32, float16, complex64, complex128, int64, int32, int16, int8, uint8, and bool.",
     "output_type": "error",
     "traceback": [
      "\u001b[1;31m---------------------------------------------------------------------------\u001b[0m",
      "\u001b[1;31mTypeError\u001b[0m                                 Traceback (most recent call last)",
      "\u001b[1;32m~\\AppData\\Local\\Temp/ipykernel_28644/3658862283.py\u001b[0m in \u001b[0;36m<module>\u001b[1;34m\u001b[0m\n\u001b[1;32m----> 1\u001b[1;33m \u001b[0mx\u001b[0m \u001b[1;33m=\u001b[0m \u001b[0mtorch\u001b[0m\u001b[1;33m.\u001b[0m\u001b[0mfrom_numpy\u001b[0m\u001b[1;33m(\u001b[0m\u001b[0mdata\u001b[0m\u001b[1;33m[\u001b[0m\u001b[1;34m'2.1'\u001b[0m\u001b[1;33m]\u001b[0m\u001b[1;33m.\u001b[0m\u001b[0mvalues\u001b[0m\u001b[1;33m)\u001b[0m\u001b[1;33m.\u001b[0m\u001b[0munsqueeze\u001b[0m\u001b[1;33m(\u001b[0m\u001b[0mdim\u001b[0m\u001b[1;33m=\u001b[0m\u001b[1;36m1\u001b[0m\u001b[1;33m)\u001b[0m\u001b[1;33m.\u001b[0m\u001b[0mfloat\u001b[0m\u001b[1;33m(\u001b[0m\u001b[1;33m)\u001b[0m\u001b[1;33m\u001b[0m\u001b[1;33m\u001b[0m\u001b[0m\n\u001b[0m",
      "\u001b[1;31mTypeError\u001b[0m: can't convert np.ndarray of type numpy.object_. The only supported types are: float64, float32, float16, complex64, complex128, int64, int32, int16, int8, uint8, and bool."
     ]
    }
   ],
   "source": [
    "x = torch.from_numpy(data['2.1'].values).unsqueeze(dim=1).float()"
   ]
  },
  {
   "cell_type": "code",
   "execution_count": null,
   "id": "436d04ed",
   "metadata": {},
   "outputs": [],
   "source": [
    "class Custom_dataset(torch.utils.data.Dataset):\n",
    "    def __init__(self):\n",
    "        # 필요한 변수를 선언하고 dataset의 전처리를 해주는 함수\n",
    "    def __len__(self):\n",
    "        # dataset의 len = total샘플의 수를 가져오는 함수\n",
    "    def __getitem(self, index):\n",
    "        # dataset에서 특정 데이터를 가져오는 함수 (idx번째 데이터를 반환하는 함수 , 이때 반환되는 값은 tensor의 형태를 취해야함)\n",
    "        "
   ]
  },
  {
   "cell_type": "code",
   "execution_count": null,
   "id": "d194c43a",
   "metadata": {},
   "outputs": [],
   "source": [
    "import pandas as pd\n",
    "import torch\n",
    "from torch.utils.data import Dataset\n",
    "from torch.utils.data import DataLoader\n",
    "\n",
    "class CustomDataset(Dataset):\n",
    "    def __init__(self, csv_file): # csv_file 파라미터를 통해 dataset을 불러옴\n",
    "        self.label = pd.read_csv(csv_file)\n",
    "    def __len__(self): # 전체 dataset의 사이즈 return\n",
    "        return len(self.label)\n",
    "    def __ getitem__(self, idx)# 전체 x 와 y데이터 중에 해당 idx번째의 데이터를 가져 옴\n",
    "        sample = torch.tensor(self.label.iloc[idx , 0:3]).int()\n",
    "        label = torch.tensor(self.label.iloc[idx , 3]).int()\n",
    "        return sample, label\n",
    "    \n",
    "tensor_dataset = CustomDataset('../covtype.csv') # 이거 용량크니까 이따가 학교가서 다운받으셈..\n",
    "dataset = DataLoader(tensor_dataset , batch_size = 4 , shuffle = True) # 데이터셋을 torch.utils.data.DataLoader에 파라미터로 전달\n",
    "\n",
    "\n",
    "###\n",
    "# 데이터 로더(DataLoader) 객체는 학습에 사용될 데이터 전체를 보관했다가 모델 학습을 할때 배치 사이즈 만큼 데이터를 꺼내서 사용함\n",
    "# 근데 데이터를 미리 잘라놓는게 아니고 내부적으로 iterator에 포함된 idx를 이용해서 배치 사이즈 만큼 데이터를 반환하는거임\n",
    "# total_dataset -> random mix -> queue에 삽입 -> 반복 -> batch1, 2, ...\n",
    "###\n",
    "\n",
    "# which is same as this \n",
    "for i, data in enumerate(dataset, 0):\n",
    "    print(i , end = \" \")\n",
    "    batch = data[0]\n",
    "    print(batch.size() , batch) \n",
    "    # 얘네들도 이따가 dataset 다운 받으면 실행해보셈"
   ]
  },
  {
   "cell_type": "code",
   "execution_count": null,
   "id": "4ed829f0",
   "metadata": {},
   "outputs": [],
   "source": [
    "# pytorch에서 제공하는 dataset 사용하기\n",
    "import torchvision.transforms as tf\n",
    "mnist_transform = tf.Compose([tf.ToTensor() , tf.Normalize((0.5) , (1.0))]) # 평균 0.5 , 표편 1.0 되도록 data 분포(normalize)조정\n",
    "from torch"
   ]
  }
 ],
 "metadata": {
  "kernelspec": {
   "display_name": "Python 3 (ipykernel)",
   "language": "python",
   "name": "python3"
  },
  "language_info": {
   "codemirror_mode": {
    "name": "ipython",
    "version": 3
   },
   "file_extension": ".py",
   "mimetype": "text/x-python",
   "name": "python",
   "nbconvert_exporter": "python",
   "pygments_lexer": "ipython3",
   "version": "3.9.7"
  }
 },
 "nbformat": 4,
 "nbformat_minor": 5
}
